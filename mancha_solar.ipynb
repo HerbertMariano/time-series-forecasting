{
  "cells": [
    {
      "cell_type": "markdown",
      "metadata": {
        "colab_type": "text",
        "id": "view-in-github"
      },
      "source": [
        "<a href=\"https://colab.research.google.com/github/HerbertMariano/time-series-forecasting/blob/main/mancha_solar.ipynb\" target=\"_parent\"><img src=\"https://colab.research.google.com/assets/colab-badge.svg\" alt=\"Open In Colab\"/></a>"
      ]
    },
    {
      "cell_type": "code",
      "execution_count": null,
      "metadata": {
        "id": "E8gXFJfnSbbT"
      },
      "outputs": [],
      "source": [
        "import numpy as np\n",
        "import seaborn as sns\n",
        "import matplotlib.pyplot as plt\n",
        "import matplotlib as mlp\n",
        "import pandas as pd\n",
        "from statsmodels.tsa.seasonal import seasonal_decompose\n",
        "from sklearn.neural_network import MLPRegressor\n",
        "from skopt import BayesSearchCV\n",
        "from sklearn.preprocessing import StandardScaler   "
      ]
    },
    {
      "cell_type": "code",
      "execution_count": null,
      "metadata": {
        "id": "0L-E2j5ESnGu"
      },
      "outputs": [],
      "source": [
        "df = pd.read_csv('https://raw.githubusercontent.com/jbrownlee/Datasets/master/monthly-sunspots.csv')"
      ]
    },
    {
      "cell_type": "code",
      "execution_count": null,
      "metadata": {
        "colab": {
          "base_uri": "https://localhost:8080/"
        },
        "id": "k5tP99XdSs3W",
        "outputId": "6e678ef1-83dc-49a8-a9b9-4c76a1068ebf"
      },
      "outputs": [],
      "source": [
        "df.info()"
      ]
    },
    {
      "cell_type": "code",
      "execution_count": null,
      "metadata": {
        "colab": {
          "base_uri": "https://localhost:8080/"
        },
        "id": "CSA5RKYwSuU1",
        "outputId": "df0aa49f-e22b-4e99-9911-d0a04b254d96"
      },
      "outputs": [],
      "source": [
        "df.isna().sum()"
      ]
    },
    {
      "cell_type": "code",
      "execution_count": null,
      "metadata": {
        "id": "_qlZzTNFS9DR"
      },
      "outputs": [],
      "source": [
        "df['Month'] = pd.to_datetime(df['Month'])"
      ]
    },
    {
      "cell_type": "code",
      "execution_count": null,
      "metadata": {
        "colab": {
          "base_uri": "https://localhost:8080/",
          "height": 424
        },
        "id": "RCFuKMUvTlIS",
        "outputId": "0e44b976-055c-40d8-c36b-461b43415bb7"
      },
      "outputs": [],
      "source": [
        "df"
      ]
    },
    {
      "cell_type": "code",
      "execution_count": null,
      "metadata": {},
      "outputs": [],
      "source": [
        "def detect_outliers(df, col_name, threshold=3):\n",
        "    mean = df[col_name].mean()\n",
        "    std = df[col_name].std()\n",
        "    outliers = np.where(np.abs(df[col_name]-mean) > (threshold*std),1,0)\n",
        "    \n",
        "    return outliers"
      ]
    },
    {
      "cell_type": "code",
      "execution_count": null,
      "metadata": {},
      "outputs": [],
      "source": [
        "def create_dataset(df:pd.DataFrame, target:str, features:str, passado=12, futuro=3):\n",
        "    X = y = []\n",
        "    for i in range(passado, len(df)-futuro):\n",
        "        X.append(df[features].iloc[i-passado:i].values)\n",
        "        y.append(df[target].iloc[i:i+futuro].values)\n",
        "    return X,y"
      ]
    },
    {
      "cell_type": "code",
      "execution_count": null,
      "metadata": {},
      "outputs": [],
      "source": [
        "decom = seasonal_decompose(df['Sunspots'], model='additive', period=12)\n",
        "df['seasonal'] = decom.seasonal"
      ]
    },
    {
      "cell_type": "code",
      "execution_count": null,
      "metadata": {},
      "outputs": [],
      "source": [
        "df['outlier'] = detect_outliers(df,'Sunspots')\n",
        "df['jan'] = np.where(df['Month'].dt.month == 1,1,0)\n",
        "df['fev'] = np.where(df['Month'].dt.month == 2,1,0)\n",
        "df['mar'] = np.where(df['Month'].dt.month == 3,1,0)\n",
        "df['abr'] = np.where(df['Month'].dt.month == 4,1,0)\n",
        "df['mai'] = np.where(df['Month'].dt.month == 5,1,0)\n",
        "df['jun'] = np.where(df['Month'].dt.month == 6,1,0)\n",
        "df['jul'] = np.where(df['Month'].dt.month == 7,1,0)\n",
        "df['ago'] = np.where(df['Month'].dt.month == 8,1,0)\n",
        "df['set'] = np.where(df['Month'].dt.month == 9,1,0)\n",
        "df['out'] = np.where(df['Month'].dt.month == 10,1,0)\n",
        "df['nov'] = np.where(df['Month'].dt.month == 11,1,0)\n",
        "df['dez'] = np.where(df['Month'].dt.month == 12,1,0)"
      ]
    },
    {
      "cell_type": "code",
      "execution_count": null,
      "metadata": {},
      "outputs": [],
      "source": [
        "scaler = StandardScaler()\n",
        "df['Sunspots'] = scaler.fit_transform(df['Sunspots'].values.reshape(-1,1))\n",
        "df['seasonal'] = scaler.fit_transform(df['seasonal'].values.reshape(-1,1))"
      ]
    },
    {
      "cell_type": "code",
      "execution_count": null,
      "metadata": {},
      "outputs": [],
      "source": [
        "features = ['Sunspots','seasonal','outlier','jan','fev','mar','abr','mai','jun','jul','ago','set','out','nov','dez']\n",
        "target = ['Sunspots']"
      ]
    },
    {
      "cell_type": "code",
      "execution_count": null,
      "metadata": {},
      "outputs": [],
      "source": [
        "X,y = create_dataset(df=df,features=features,target=target,passado=12,futuro=3)"
      ]
    },
    {
      "cell_type": "code",
      "execution_count": null,
      "metadata": {},
      "outputs": [],
      "source": [
        "mlp = MLPRegressor()\n",
        "\n",
        "param_dist = {'hidden_layer_sizes': [(50,50,50), (50,100,50), (100,)],'max_iter': [100,1000,10000],\n",
        "              'activation': ['relu', 'tanh'],\n",
        "              'solver': ['sgd', 'adam'],\n",
        "              'alpha': np.logspace(-5, 3, 5),\n",
        "              'learning_rate': ['constant','adaptive']}"
      ]
    },
    {
      "cell_type": "code",
      "execution_count": null,
      "metadata": {},
      "outputs": [],
      "source": [
        "bayes_cv = BayesSearchCV(mlp,param_dist, n_iter=10, cv=5, n_jobs=-1)\n",
        "bayes_cv.fit(X, y)\n",
        "print(\"Best parameters found: \",bayes_cv.best_params_)"
      ]
    },
    {
      "cell_type": "code",
      "execution_count": null,
      "metadata": {},
      "outputs": [],
      "source": []
    }
  ],
  "metadata": {
    "colab": {
      "authorship_tag": "ABX9TyPxDfOeHW9P2IwM4ATywCK5",
      "include_colab_link": true,
      "provenance": []
    },
    "kernelspec": {
      "display_name": "dojowin",
      "language": "python",
      "name": "python3"
    },
    "language_info": {
      "codemirror_mode": {
        "name": "ipython",
        "version": 3
      },
      "file_extension": ".py",
      "mimetype": "text/x-python",
      "name": "python",
      "nbconvert_exporter": "python",
      "pygments_lexer": "ipython3",
      "version": "3.10.8"
    },
    "vscode": {
      "interpreter": {
        "hash": "22adf4ae29c7db87a6a5e35403546b21487bbacdadf4da113fb0ab4de5ad6b23"
      }
    }
  },
  "nbformat": 4,
  "nbformat_minor": 0
}
