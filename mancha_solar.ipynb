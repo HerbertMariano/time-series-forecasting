{
  "cells": [
    {
      "cell_type": "markdown",
      "metadata": {
        "colab_type": "text",
        "id": "view-in-github"
      },
      "source": [
        "<a href=\"https://colab.research.google.com/github/HerbertMariano/time-series-forecasting/blob/main/mancha_solar.ipynb\" target=\"_parent\"><img src=\"https://colab.research.google.com/assets/colab-badge.svg\" alt=\"Open In Colab\"/></a>"
      ]
    },
    {
      "cell_type": "code",
      "execution_count": 1,
      "metadata": {
        "id": "E8gXFJfnSbbT"
      },
      "outputs": [],
      "source": [
        "import pandas as pd\n",
        "import numpy as np\n",
        "import seaborn as sns\n",
        "import matplotlib.pyplot as plt\n",
        "from statsmodels.tsa.seasonal import seasonal_decompose\n",
        "from xgboost import XGBRegressor\n",
        "from skopt import BayesSearchCV\n",
        "from sklearn.preprocessing import StandardScaler"
      ]
    },
    {
      "cell_type": "code",
      "execution_count": 2,
      "metadata": {
        "id": "0L-E2j5ESnGu"
      },
      "outputs": [],
      "source": [
        "df = pd.read_csv('https://raw.githubusercontent.com/jbrownlee/Datasets/master/monthly-sunspots.csv')"
      ]
    },
    {
      "cell_type": "code",
      "execution_count": 3,
      "metadata": {
        "id": "RCFuKMUvTlIS"
      },
      "outputs": [],
      "source": [
        "df.sort_values('Month',inplace=True)\n",
        "df.set_index('Month',inplace=True)"
      ]
    },
    {
      "cell_type": "code",
      "execution_count": 4,
      "metadata": {},
      "outputs": [],
      "source": [
        "features = ['Sunspots']\n",
        "target = []"
      ]
    },
    {
      "cell_type": "code",
      "execution_count": 5,
      "metadata": {},
      "outputs": [],
      "source": [
        "for i in range(1,12):\n",
        "    df[f'Sunspots-{i}'] = df['Sunspots'].shift(i)\n",
        "    features.append(f'Sunspots-{i}')\n",
        "\n",
        "for i in range(1,3):\n",
        "    df[f'target-{i}'] = df['Sunspots-11'].shift(-i)\n",
        "    target.append(f'target-{i}')"
      ]
    },
    {
      "cell_type": "code",
      "execution_count": 6,
      "metadata": {},
      "outputs": [],
      "source": [
        "df.dropna(inplace=True)"
      ]
    },
    {
      "cell_type": "code",
      "execution_count": 9,
      "metadata": {},
      "outputs": [
        {
          "name": "stdout",
          "output_type": "stream",
          "text": [
            "Best score for target-4: 0.9996989241615453\n",
            "Best parameters for target-4: OrderedDict([('colsample_bytree', 1.0), ('learning_rate', 0.09614373919479663), ('max_depth', 10), ('min_child_weight', 0), ('n_estimators', 100), ('subsample', 1.0)])\n",
            "Best score for target-3: 0.9982270030697509\n",
            "Best parameters for target-3: OrderedDict([('colsample_bytree', 0.83825023230939), ('learning_rate', 0.17648679548363413), ('max_depth', 6), ('min_child_weight', 0), ('n_estimators', 310), ('subsample', 0.8324232518895744)])\n",
            "Best score for target-2: 0.9975443322727664\n",
            "Best parameters for target-2: OrderedDict([('colsample_bytree', 0.8959065928286939), ('learning_rate', 0.4899108626838077), ('max_depth', 9), ('min_child_weight', 1), ('n_estimators', 953), ('subsample', 0.932738250522197)])\n"
          ]
        }
      ],
      "source": [
        "model = XGBRegressor()\n",
        "\n",
        "for i in range(4,1,-1):\n",
        "    X = df[features][:-i*12]\n",
        "    y = df[target][:-i*12]\n",
        "    scaler = StandardScaler()\n",
        "    X = scaler.fit_transform(X)\n",
        "    search = BayesSearchCV(model, {'n_estimators': (100, 1000),\n",
        "                                   'max_depth': (1, 10),\n",
        "                                   'learning_rate': (0.001, 1.0, 'log-uniform'),\n",
        "                                   'subsample': (0.01, 1.0, 'uniform'),\n",
        "                                   'colsample_bytree': (0.01, 1.0, 'uniform'),\n",
        "                                   'min_child_weight': (0, 10)}, n_iter=32, cv=2, n_jobs=-1)\n",
        "    search.fit(X, y)\n",
        "    print(f'Best score for target-{i}: {search.best_score_}')\n",
        "    print(f'Best parameters for target-{i}: {search.best_params_}')\n",
        "\n",
        "    "
      ]
    }
  ],
  "metadata": {
    "colab": {
      "authorship_tag": "ABX9TyMxlLppvkUS2FT8udfRNBqr",
      "include_colab_link": true,
      "provenance": []
    },
    "gpuClass": "standard",
    "kernelspec": {
      "display_name": "dojowin",
      "language": "python",
      "name": "python3"
    },
    "language_info": {
      "codemirror_mode": {
        "name": "ipython",
        "version": 3
      },
      "file_extension": ".py",
      "mimetype": "text/x-python",
      "name": "python",
      "nbconvert_exporter": "python",
      "pygments_lexer": "ipython3",
      "version": "3.10.8"
    },
    "vscode": {
      "interpreter": {
        "hash": "22adf4ae29c7db87a6a5e35403546b21487bbacdadf4da113fb0ab4de5ad6b23"
      }
    }
  },
  "nbformat": 4,
  "nbformat_minor": 0
}
